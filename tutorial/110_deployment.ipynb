{
 "cells": [
  {
   "cell_type": "markdown",
   "metadata": {},
   "source": [
    "# Deployment\n",
    "\n",
    "So far, we've only run our app on our local computer or in Gitpod. In this final part of the tutorial, we'll learn how to put our application online by deploying it with Heroku.\n",
    "\n",
    "Hemlock is built on top of Flask, and you can find many deployment options in the [Flask documentation](https://flask.palletsprojects.com/en/2.0.x/deploying/). However, I've built the Hemlock template to make deployment especially easy on Heroku.\n",
    "\n",
    "Heroku is a *platform as a service* for deploying web applications and you can test it out for free. Here's how to do it:\n",
    "\n",
    "0. **Edit `app.json` in the root directory.** (Look for it in the file explorer on the left). Right now, `app.json` is configured to use lightweight, free Heroku resources. When you launch your study *for real*, you'll need to use more robust, paid Heroku resources. For most medium-sized studies, the following settings should work well. Change:\n",
    "\n",
    "    0. The size of your database from `\"heroku-postgresql:hobby-dev\"` to `\"heroku-postgresql:standard-0\"`\n",
    "    1. The number of web servers from `\"quantity\": 1,` to `\"quantity\": 10`\n",
    "    2. The quality of the web servers from `\"size\": \"free\"` to `\"size\": \"standard-1x\"`\n",
    "\n",
    "Alternatively, it's easy to adjust the quantity and size after launching your app.\n",
    "\n",
    "Heroku prorates your cost by how long you have the app running. At its current rate (Jan. 5, 2022), keeping a survey with the above configuration running for 8 hours will cost you $3.34.\n",
    "\n",
    "1. **Add, commit, and push the changes you made to your code to Github.** Enter the following in your terminal:\n",
    "\n",
    "```bash\n",
    "$ git add .\n",
    "$ git commit -m \"Ready to deploy.\"\n",
    "$ git push origin master\n",
    "```\n",
    "\n",
    "If you're not sure what to do, rewatch the \"Getting started\" video.\n",
    "\n",
    "2. **Click the \"Deploy to Heroku\" button in your Github repository.** Go to your Github repository. Scroll down to the README and click the button that says, \"Deploy to Heroku.\" This will bring you to Heroku's deployment page. If you don't have a Heroku account yet, you'll be prompted to create one.\n",
    "3. **Deploy your app.** Give your app a name, set your password, and click \"Deploy.\" You'll have to enter this password when you download the data. After a couple of minutes, you'll see a \"Manage app\" button appear. Click this to go to your Heroku dashboard and manage your app.\n",
    "\n",
    "Congratulations! You've mastered the basics of Hemlock. Ready to create your own project? Click [here](https://github.com/dsbowen/hemlock-template/generate)."
   ]
  },
  {
   "cell_type": "code",
   "execution_count": null,
   "metadata": {},
   "outputs": [],
   "source": []
  }
 ],
 "metadata": {
  "language_info": {
   "name": "python"
  },
  "orig_nbformat": 4
 },
 "nbformat": 4,
 "nbformat_minor": 2
}
