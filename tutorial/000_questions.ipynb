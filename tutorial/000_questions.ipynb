{
 "cells": [
  {
   "cell_type": "markdown",
   "metadata": {},
   "source": [
    "# Welcome to Hemlock\n",
    "\n",
    "Welcome to the Hemlock tutorial! Hemlock is a python framework for creating surveys and behavioral experiments with applications in marketing and social science. I designed this tutorial to teach you the basics of Hemlock.\n",
    "\n",
    "We'll start in *notebooks* (files ending in `.ipynb`, an abbreviation for *ipython notebook*). After covering the basics (questions, pages, and users), we'll begin running applications written in *python files* (files ending in `.py`).\n",
    "\n",
    "To run a *cell* in a notebook, press Shift + Enter. If the notebook asks you to select a *kernel*, choose the \"suggested\" one.\n",
    "\n",
    "Run the cell below to import various types of questions and create a test application."
   ]
  },
  {
   "cell_type": "code",
   "execution_count": null,
   "metadata": {},
   "outputs": [],
   "source": [
    "from hemlock import create_test_app\n",
    "from hemlock.questions import Check, Input, Label, Range, Select, Textarea\n",
    "\n",
    "app = create_test_app()"
   ]
  },
  {
   "cell_type": "markdown",
   "metadata": {},
   "source": [
    "In this part of the tutorial, we'll learn how to create questions. Run the cell below to create a `Label` with the text `\"Hello, world!\"`."
   ]
  },
  {
   "cell_type": "code",
   "execution_count": null,
   "metadata": {},
   "outputs": [],
   "source": [
    "label = Label(\"Hello, world!\")\n",
    "label"
   ]
  },
  {
   "cell_type": "markdown",
   "metadata": {},
   "source": [
    "You can display questions in a notebook by calling their `display` method."
   ]
  },
  {
   "cell_type": "code",
   "execution_count": null,
   "metadata": {},
   "outputs": [],
   "source": [
    "label.display()"
   ]
  },
  {
   "cell_type": "markdown",
   "metadata": {},
   "source": [
    "Different types of questions do different things. For example, an `Input` allows a user to enter text."
   ]
  },
  {
   "cell_type": "code",
   "execution_count": null,
   "metadata": {},
   "outputs": [],
   "source": [
    "Input(\"What's your name?\").display()"
   ]
  },
  {
   "cell_type": "markdown",
   "metadata": {},
   "source": [
    "We can use an `Input` to ask users how old they are and require them to enter a number greater than 0."
   ]
  },
  {
   "cell_type": "code",
   "execution_count": null,
   "metadata": {},
   "outputs": [],
   "source": [
    "Input(\"How old are you?\", input_tag={\"type\": \"number\", \"min\": 0}).display()"
   ]
  },
  {
   "cell_type": "markdown",
   "metadata": {},
   "source": [
    "`Textarea` questions allow users to enter text and are better for free-form and longer responses."
   ]
  },
  {
   "cell_type": "code",
   "execution_count": null,
   "metadata": {},
   "outputs": [],
   "source": [
    "Textarea(\"Do you have any feedback for us?\").display()"
   ]
  },
  {
   "cell_type": "markdown",
   "metadata": {},
   "source": [
    "It's easy to constrain both the character and word length of `Textarea` questions."
   ]
  },
  {
   "cell_type": "code",
   "execution_count": null,
   "metadata": {},
   "outputs": [],
   "source": [
    "Textarea(\n",
    "    \"In at least 20 characters and fewer than 10 words, do you have any feedback for us?\",\n",
    "    textarea_tag={\"minlength\": 20, \"maxwords\": 10}\n",
    ").display()"
   ]
  },
  {
   "cell_type": "markdown",
   "metadata": {},
   "source": [
    "`Check` questions allow users to \"check\" one of several choices."
   ]
  },
  {
   "cell_type": "code",
   "execution_count": null,
   "metadata": {},
   "outputs": [],
   "source": [
    "Check(\n",
    "    \"Which color do you like best?\",\n",
    "    [\"Red\", \"Green\", \"Blue\"]\n",
    ").display()"
   ]
  },
  {
   "cell_type": "markdown",
   "metadata": {},
   "source": [
    "We can allow users to check multiple choices by passing `multiple=True`."
   ]
  },
  {
   "cell_type": "code",
   "execution_count": null,
   "metadata": {},
   "outputs": [],
   "source": [
    "Check(\n",
    "    \"Which of these colors do you like?\",\n",
    "    [\"Red\", \"Green\", \"Blue\"],\n",
    "    multiple=True\n",
    ").display()"
   ]
  },
  {
   "cell_type": "markdown",
   "metadata": {},
   "source": [
    "`Select` questions allow users to select a choice using a dropdown menu. You can also pass `multiple=True` to allow users to select multiple choices."
   ]
  },
  {
   "cell_type": "code",
   "execution_count": null,
   "metadata": {},
   "outputs": [],
   "source": [
    "Select(\n",
    "    \"Which color do you like best?\",\n",
    "    [\"Red\", \"Green\", \"Blue\"]\n",
    ").display()"
   ]
  },
  {
   "cell_type": "markdown",
   "metadata": {},
   "source": [
    "## Exercises\n",
    "\n",
    "0. Create an `Input` question asking \"If you could travel back in time, what year would you travel to?\"\n",
    "1. Create a `Check` question asking users which seasons they like\n",
    "2. Create a `Select` question asking users what their favorite ice cream flavor is"
   ]
  },
  {
   "cell_type": "code",
   "execution_count": null,
   "metadata": {},
   "outputs": [],
   "source": [
    "# WRITE YOUR ANSWERS HERE"
   ]
  },
  {
   "cell_type": "markdown",
   "metadata": {},
   "source": [
    "## Answers"
   ]
  },
  {
   "cell_type": "code",
   "execution_count": null,
   "metadata": {},
   "outputs": [],
   "source": [
    "Input(\n",
    "    \"If you could travel back in time, what year would you travel to?\",\n",
    "    input_tag={\"type\": \"number\", \"max\": 2022}\n",
    ").display()"
   ]
  },
  {
   "cell_type": "code",
   "execution_count": null,
   "metadata": {},
   "outputs": [],
   "source": [
    "Check(\n",
    "    \"Which seasons do you like?\",\n",
    "    [\"Winter\", \"Spring\", \"Summer\", \"Fall\"],\n",
    "    multiple=True\n",
    ").display()"
   ]
  },
  {
   "cell_type": "code",
   "execution_count": null,
   "metadata": {},
   "outputs": [],
   "source": [
    "Select(\n",
    "    \"What's your favorite ice cream flavor?\",\n",
    "    [\"Chocolate\", \"Vanilla\", \"Strawberry\"]\n",
    ").display()"
   ]
  },
  {
   "cell_type": "markdown",
   "metadata": {},
   "source": [
    "Now you know how to create questions! Check out `010_pages.ipynb` for the next part of the tutorial."
   ]
  },
  {
   "cell_type": "markdown",
   "metadata": {},
   "source": []
  }
 ],
 "metadata": {
  "interpreter": {
   "hash": "2434e11b61ef8302e9f77cff4a3245687722323e4c9355550d8128586d99375c"
  },
  "kernelspec": {
   "display_name": "Python 3.9.7 64-bit ('hemlock-template': conda)",
   "language": "python",
   "name": "python3"
  },
  "language_info": {
   "codemirror_mode": {
    "name": "ipython",
    "version": 3
   },
   "file_extension": ".py",
   "mimetype": "text/x-python",
   "name": "python",
   "nbconvert_exporter": "python",
   "pygments_lexer": "ipython3",
   "version": "3.8.12"
  },
  "orig_nbformat": 4
 },
 "nbformat": 4,
 "nbformat_minor": 2
}
