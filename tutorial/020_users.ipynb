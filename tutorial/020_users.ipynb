{
 "cells": [
  {
   "cell_type": "markdown",
   "metadata": {},
   "source": [
    "# Users\n",
    "\n",
    "In this part of the tutorial, we'll learn how to create and run test users.\n",
    "\n",
    "Run the cell below to create a test application."
   ]
  },
  {
   "cell_type": "code",
   "execution_count": null,
   "metadata": {},
   "outputs": [],
   "source": [
    "import os\n",
    "\n",
    "from hemlock import User, Page, create_test_app\n",
    "from hemlock.questions import Check, Input, Label\n",
    "\n",
    "# need to remove GITPOD_HOST from environment\n",
    "# this is necessary to run test users in notebooks when using Gitpod\n",
    "os.environ.pop(\"GITPOD_HOST\", None)\n",
    "\n",
    "app = create_test_app()"
   ]
  },
  {
   "cell_type": "markdown",
   "metadata": {},
   "source": [
    "We can create a test user with the `make_test_user` method.\n",
    "\n",
    "We often initialize test users with a \"seed\" function (which happens to be named `seed` in the example below). A seed function returns a list of pages for the user to read and respond to.\n",
    "\n",
    "In this example, the 0th page contains an `Input` asking the user for their name. The 1st page contains a `Label` saying `\"Goodbye!\"`."
   ]
  },
  {
   "cell_type": "code",
   "execution_count": null,
   "metadata": {},
   "outputs": [],
   "source": [
    "def seed():\n",
    "    return [\n",
    "        Page(\n",
    "            Input(\"What's your name?\")\n",
    "        ),\n",
    "        Page(\n",
    "            Label(\"Goodbye!\")\n",
    "        )\n",
    "    ]\n",
    "\n",
    "user = User.make_test_user(seed)\n",
    "user"
   ]
  },
  {
   "cell_type": "markdown",
   "metadata": {},
   "source": [
    "Use the `test_get` method to display the test user's current page. Because we're just starting the survey, the current page is the 0th page.\n",
    "\n",
    "You'll also see a display of the \"navigation tree\" (the green 0 and red 1), which we'll learn more about later."
   ]
  },
  {
   "cell_type": "code",
   "execution_count": null,
   "metadata": {},
   "outputs": [],
   "source": [
    "user.test_get().display()"
   ]
  },
  {
   "cell_type": "markdown",
   "metadata": {},
   "source": [
    "Use the `test_request` method to submit a test response and display the next page. The first argument to `test_request` is a list of responses to the questions on the current page.\n",
    "\n",
    "In this example, we'll tell the survey that our name is `\"Socrates\"`."
   ]
  },
  {
   "cell_type": "code",
   "execution_count": null,
   "metadata": {},
   "outputs": [],
   "source": [
    "user.test_request(responses=[\"Socrates\"]).display()"
   ]
  },
  {
   "cell_type": "markdown",
   "metadata": {},
   "source": [
    "Notice that the first argument to `test_request` is a list of responses to every question on the test user's current page.\n",
    "\n",
    "To select multiple choices, use a `set`.\n",
    "\n",
    "In the example below, we ask the user what heavy metal bands they like and respond with `{\"Metallica\", \"Megadeth\"}`."
   ]
  },
  {
   "cell_type": "code",
   "execution_count": null,
   "metadata": {},
   "outputs": [],
   "source": [
    "def seed():\n",
    "    return [\n",
    "        Page(\n",
    "            Check(\n",
    "                \"Which heavy metal bands do you like?\",\n",
    "                [\"Metallica\", \"Megadeth\", \"Slayer\"],\n",
    "                multiple=True\n",
    "            )\n",
    "        ),\n",
    "        Page(\n",
    "            Label(\"Goodbye!\")\n",
    "        )\n",
    "    ]\n",
    "\n",
    "user = User.make_test_user(seed)\n",
    "user.test_request([{\"Metallica\", \"Megadeth\"}]).display()"
   ]
  },
  {
   "cell_type": "markdown",
   "metadata": {},
   "source": [
    "## Exercises\n",
    "\n",
    "0. Write a seed function that returns 2 pages:\n",
    "\n",
    "    0. A page containing:\n",
    "    \n",
    "        0. An `Input` question asking the user what their pet's name is\n",
    "        1. A `Check` question asking the user which flowers they like\n",
    "    1. A page containing a `Label` saying goodbye\n",
    "    \n",
    "1. Make a test user and display the 0th page\n",
    "2. Make the test user respond to 0th page"
   ]
  },
  {
   "cell_type": "code",
   "execution_count": null,
   "metadata": {},
   "outputs": [],
   "source": [
    "# WRITE YOUR ANSWERS HERE"
   ]
  },
  {
   "cell_type": "markdown",
   "metadata": {},
   "source": [
    "## Answers"
   ]
  },
  {
   "cell_type": "code",
   "execution_count": null,
   "metadata": {},
   "outputs": [],
   "source": [
    "def seed():\n",
    "    return [\n",
    "        Page(\n",
    "            Input(\"What's your pet's name?\"),\n",
    "            Check(\n",
    "                \"Which flower do you like?\",\n",
    "                [\"Roses\", \"Lillies\", \"Violets\"],\n",
    "                multiple=True\n",
    "            )\n",
    "        ),\n",
    "        Page(\n",
    "            Label(\"Goodbye!\")\n",
    "        )\n",
    "    ]\n",
    "\n",
    "user = User.make_test_user(seed)\n",
    "user"
   ]
  },
  {
   "cell_type": "code",
   "execution_count": null,
   "metadata": {},
   "outputs": [],
   "source": [
    "user.test_get().display()"
   ]
  },
  {
   "cell_type": "code",
   "execution_count": null,
   "metadata": {},
   "outputs": [],
   "source": [
    "user.test_request([\"Delta\", {\"Roses\", \"Lillies\"}]).display()"
   ]
  },
  {
   "cell_type": "markdown",
   "metadata": {},
   "source": [
    "Now you know how to create test users! Check out `030_application.ipynb` for the next part of the tutorial."
   ]
  },
  {
   "cell_type": "markdown",
   "metadata": {},
   "source": []
  }
 ],
 "metadata": {
  "interpreter": {
   "hash": "d37b4f6678920e1a5e3f7c96bb0fd4c6f9d453d96ae60faade55505d9378739b"
  },
  "kernelspec": {
   "display_name": "Python 3.8.12 64-bit ('hemlock-tutorial': conda)",
   "language": "python",
   "name": "python3"
  },
  "language_info": {
   "codemirror_mode": {
    "name": "ipython",
    "version": 3
   },
   "file_extension": ".py",
   "mimetype": "text/x-python",
   "name": "python",
   "nbconvert_exporter": "python",
   "pygments_lexer": "ipython3",
   "version": "3.8.12"
  },
  "orig_nbformat": 4
 },
 "nbformat": 4,
 "nbformat_minor": 2
}
