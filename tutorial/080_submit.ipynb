{
 "cells": [
  {
   "cell_type": "markdown",
   "metadata": {},
   "source": [
    "# Submit functions\n",
    "\n",
    "In this part of the tutorial, we'll learn how to change pages and questions after the user submits them.\n",
    "\n",
    "Submit functions are like compile functions in allowing us to change a survey based on the user's responses and can often be used to accomplish the same tasks.\n",
    "\n",
    "Run the cell below to create a test app."
   ]
  },
  {
   "cell_type": "code",
   "execution_count": null,
   "metadata": {},
   "outputs": [],
   "source": [
    "import os\n",
    "\n",
    "from hemlock import User, Page, create_test_app\n",
    "from hemlock.questions import Input, Label, Select\n",
    "from sqlalchemy_mutable.utils import partial\n",
    "\n",
    "os.environ.pop(\"GITPOD_HOST\", None)\n",
    "\n",
    "app = create_test_app()"
   ]
  },
  {
   "cell_type": "markdown",
   "metadata": {},
   "source": [
    "Run the cell below to get a sense of the \"page logic.\" When the user submits the 0th page, the following things happen:\n",
    "\n",
    "0. The 0th page's validate functions are called.\n",
    "1. If the responses are valid, the 0th page's submit functions are called.\n",
    "2. The 1st page's compile functions are called.\n",
    "3. The user sees the 1st page."
   ]
  },
  {
   "cell_type": "code",
   "execution_count": null,
   "metadata": {},
   "outputs": [],
   "source": [
    "def seed():\n",
    "    return [\n",
    "        Page(\n",
    "            Label(\"Hello, world!\", validate=validate_func, submit=submit_func)\n",
    "        ),\n",
    "        Page(\n",
    "            Label(\"Goodbye, world!\", compile=compile_func)\n",
    "        )\n",
    "    ]\n",
    "\n",
    "\n",
    "def compile_func(parent):\n",
    "    print(f\"compile_func was called with parent {parent}.\")\n",
    "\n",
    "\n",
    "def validate_func(parent):\n",
    "    print(f\"validate_func was called with parent {parent}.\")\n",
    "\n",
    "\n",
    "def submit_func(parent):\n",
    "    print(f\"submit_func was called with parent {parent}.\")\n",
    "\n",
    "\n",
    "user = User.make_test_user(seed)\n",
    "_ = user.test_request()"
   ]
  },
  {
   "cell_type": "markdown",
   "metadata": {},
   "source": [
    "We can use submit functions to ask for the user's name on page 0 and greet them by name on page 1."
   ]
  },
  {
   "cell_type": "code",
   "execution_count": null,
   "metadata": {},
   "outputs": [],
   "source": [
    "def seed():\n",
    "    pages = [\n",
    "        Page(\n",
    "            name_input := Input(\"What's your name?\")\n",
    "        ),\n",
    "        Page(\n",
    "            greet_label := Label()\n",
    "        )\n",
    "    ]\n",
    "    name_input.submit = partial(greet_user, greet_label)\n",
    "    return pages\n",
    "\n",
    "\n",
    "def greet_user(name_input, greet_label):\n",
    "    greet_label.label = f\"Hello, {name_input.response}!\"\n",
    "\n",
    "\n",
    "user = User.make_test_user(seed)\n",
    "user.test_request([\"Sophocles\"]).display()"
   ]
  },
  {
   "cell_type": "markdown",
   "metadata": {},
   "source": [
    "## Exercises\n",
    "\n",
    "0. Create a survey with 2 pages:\n",
    "\n",
    "    0. A page with a `Select` question asking the user what their favorite planet is (you don't have to list all the planets, just 2 or 3)\n",
    "    1. A goodbye page.\n",
    "1. Add a submit function to the label of the goodbye page. If the user said Mars was their favorite planet, the label should change to, \"No way! Mars is my favorite planet, too!\" Otherwise, the label should change to, \"USER'S_FAVORITE_PLANET is pretty cool, but I like Mars better.\"\n",
    "2. With test users, verify that the survey is behaving as expected.\n",
    "3. Transfer the seed function you wrote in steps 1-2 to `src/my_survey.py`, run the app, and verify that it's working as expected.\n",
    "4. Test your code with `make test`."
   ]
  },
  {
   "cell_type": "code",
   "execution_count": null,
   "metadata": {},
   "outputs": [],
   "source": [
    "# WRITE YOUR CODE HERE"
   ]
  },
  {
   "cell_type": "markdown",
   "metadata": {},
   "source": [
    "## Answers"
   ]
  },
  {
   "cell_type": "code",
   "execution_count": null,
   "metadata": {},
   "outputs": [],
   "source": [
    "def seed():\n",
    "    pages = [\n",
    "        Page(\n",
    "            favorite_planet := Select(\n",
    "                \"Which planet do you like best?\",\n",
    "                [\"Mercury\", \"Jupiter\", \"Mars\"]\n",
    "            )\n",
    "        ),\n",
    "        Page(\n",
    "            label := Label()\n",
    "        )\n",
    "    ]\n",
    "    favorite_planet.submit = partial(display_my_favorite_planet, label)\n",
    "    return pages\n",
    "\n",
    "\n",
    "def display_my_favorite_planet(favorite_planet, label):\n",
    "    if favorite_planet.response == \"Mars\":\n",
    "        label.label = \"No way! Mars is my favorite planet, too!\"\n",
    "    else:\n",
    "        label.label = f\"{favorite_planet.response} is pretty cool, but I like Mars better.\"\n",
    "\n",
    "\n",
    "user = User.make_test_user(seed)\n",
    "user.test_request([\"Mars\"]).display()"
   ]
  },
  {
   "cell_type": "code",
   "execution_count": null,
   "metadata": {},
   "outputs": [],
   "source": [
    "user = User.make_test_user(seed)\n",
    "user.test_request([\"Jupiter\"]).display()"
   ]
  },
  {
   "cell_type": "markdown",
   "metadata": {},
   "source": [
    "See `src/submit.py` for what your survey file should look like.\n",
    "\n",
    "Now you know how to use submit functions! Check out `090_navigate.ipynb` for the next part of the tutorial."
   ]
  },
  {
   "cell_type": "code",
   "execution_count": null,
   "metadata": {},
   "outputs": [],
   "source": []
  }
 ],
 "metadata": {
  "interpreter": {
   "hash": "d37b4f6678920e1a5e3f7c96bb0fd4c6f9d453d96ae60faade55505d9378739b"
  },
  "kernelspec": {
   "display_name": "Python 3.8.12 64-bit ('hemlock-tutorial': conda)",
   "language": "python",
   "name": "python3"
  },
  "language_info": {
   "codemirror_mode": {
    "name": "ipython",
    "version": 3
   },
   "file_extension": ".py",
   "mimetype": "text/x-python",
   "name": "python",
   "nbconvert_exporter": "python",
   "pygments_lexer": "ipython3",
   "version": "3.8.12"
  },
  "orig_nbformat": 4
 },
 "nbformat": 4,
 "nbformat_minor": 2
}
