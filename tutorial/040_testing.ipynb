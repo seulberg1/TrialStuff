{
 "cells": [
  {
   "cell_type": "markdown",
   "metadata": {},
   "source": [
    "# Testing\n",
    "\n",
    "In this part of the tutorial, we'll learn how to test our code.\n",
    "\n",
    "First, run a test in your terminal with\n",
    "\n",
    "```bash\n",
    "$ make test\n",
    "```\n",
    "\n",
    "If all goes well, you should get a message telling you your test passed.\n",
    "\n",
    "When we run `make test`, 100 fake users run through our app and respond to questions randomly. This is a tremedously effective way to find and fix bugs.\n",
    "\n",
    "Now, run\n",
    "\n",
    "```bash\n",
    "$ make testserve\n",
    "```\n",
    "\n",
    "This shows a *code coverage report*. A code coverage report tells us which parts of our code were tested. If all goes well, we should see 100% coverage in our main code file(s). Right now, we should see that every line in `src/my_survey.py` was tested.\n",
    "\n",
    "If some lines aren't covered, it means users didn't reach that part of our survey, which should raise a red flag.\n",
    "\n",
    "By default, the test users respond to questions randomly.\n",
    "But, sometimes, we don't want our users to respond randomly. For example, suppose you have an `Input` asking the user some question to which there is a correct response, and the user can't continue until entering it. (We'll cover validation later.) Our test user, responding randomly, would be stuck on this page forever. Below, we'll learn how to set test users' default responses to avoid situations like this.\n",
    "\n",
    "Start by running the cell below to create a test app."
   ]
  },
  {
   "cell_type": "code",
   "execution_count": null,
   "metadata": {},
   "outputs": [],
   "source": [
    "from hemlock import User, Page, create_test_app\n",
    "from hemlock.questions import Check, Input, Label, Select\n",
    "\n",
    "app = create_test_app()"
   ]
  },
  {
   "cell_type": "markdown",
   "metadata": {},
   "source": [
    "Run the cell below and notice how the test user responds randomly. Notice a line in the output logs that says \"test response: 'RANDOM_RESPONSE'\"."
   ]
  },
  {
   "cell_type": "code",
   "execution_count": null,
   "metadata": {},
   "outputs": [],
   "source": [
    "def seed():\n",
    "    return [\n",
    "        Page(\n",
    "            Input(\"What's your name?\")\n",
    "        ),\n",
    "        Page(\n",
    "            Label(\"Goodbye!\")\n",
    "        )\n",
    "    ]\n",
    "\n",
    "\n",
    "_ = User.make_test_user(seed).test_request()"
   ]
  },
  {
   "cell_type": "markdown",
   "metadata": {},
   "source": [
    "We can change the default response by passing `test_response=TEST_RESPONSE`.\n",
    "\n",
    "In the example below, we ask the user for their name and change the test user's repsonse to `\"Seneca\"`."
   ]
  },
  {
   "cell_type": "code",
   "execution_count": null,
   "metadata": {},
   "outputs": [],
   "source": [
    "def seed():\n",
    "    return [\n",
    "        Page(\n",
    "            Input(\n",
    "                \"What's your name?\",\n",
    "                test_response=\"Seneca\"\n",
    "            )\n",
    "        ),\n",
    "        Page(\n",
    "            Label(\"Goodbye!\")\n",
    "        )\n",
    "    ]\n",
    "\n",
    "\n",
    "_ = User.make_test_user(seed).test_request()"
   ]
  },
  {
   "cell_type": "markdown",
   "metadata": {},
   "source": [
    "The test user can also respond with multiple choices for a multiple choice question."
   ]
  },
  {
   "cell_type": "code",
   "execution_count": null,
   "metadata": {},
   "outputs": [],
   "source": [
    "def seed():\n",
    "    return [\n",
    "        Page(\n",
    "            Check(\n",
    "                \"Which of these songs do you like?\",\n",
    "                [\"Here comes the sun\", \"Hard day's night\", \"Yesterday\"],\n",
    "                multiple=True,\n",
    "                test_response=[\"Here comes the sun\", \"Yesterday\"]\n",
    "            )\n",
    "        ),\n",
    "        Page(\n",
    "            Label(\"Goodbye!\")\n",
    "        )\n",
    "    ]\n",
    "\n",
    "\n",
    "_ = User.make_test_user(seed).test_request()"
   ]
  },
  {
   "cell_type": "markdown",
   "metadata": {},
   "source": [
    "## Exercises\n",
    "\n",
    "0. Create a survey with 2 pages:\n",
    "\n",
    "    0. A page with:\n",
    "\n",
    "        0. An `Input` asking the user what they wanted to grow up to be when they were a kid.\n",
    "        1. A `Select` question asking which types of vegan burgers they've bought.\n",
    "    1. A goodbye page.\n",
    "1. Add a default test response for the `Input` question on page 0.\n",
    "2. Add a default test response for the `Select` question on page 0.\n",
    "3. Run a test user through your survey and verify that they're entering the expected test responses.\n",
    "4. Transfer the seed function you wrote in steps 0-2 to `src/my_survey.py`. Run the app and go through the survey in your browser.\n",
    "5. Test your survey with `make test`."
   ]
  },
  {
   "cell_type": "code",
   "execution_count": null,
   "metadata": {},
   "outputs": [],
   "source": [
    "# WRITE YOUR CODE HERE"
   ]
  },
  {
   "cell_type": "markdown",
   "metadata": {},
   "source": [
    "## Answers"
   ]
  },
  {
   "cell_type": "code",
   "execution_count": null,
   "metadata": {},
   "outputs": [],
   "source": [
    "def seed():\n",
    "    return [\n",
    "        Page(\n",
    "            Input(\n",
    "                \"What did you want to grow up to be when you were a kid?\",\n",
    "                test_response=\"Astronaut\"\n",
    "            ),\n",
    "            Select(\n",
    "                \"Which of these vegan burgers have you bought?\",\n",
    "                [\"Beyond\", \"Impossible\", \"Morning star\"],\n",
    "                multiple=True,\n",
    "                test_response=[\"Beyond\", \"Impossible\"]\n",
    "            )\n",
    "        ),\n",
    "        Page(\n",
    "            Label(\"Goodbye!\")\n",
    "        )\n",
    "    ]\n",
    "\n",
    "\n",
    "_ = User.make_test_user(seed).test_request()"
   ]
  },
  {
   "cell_type": "markdown",
   "metadata": {},
   "source": [
    "Open `src/testing.py` to see what your survey file should look like.\n",
    "\n",
    "Now you know how to test your code! Check out `050_data.ipynb` for the next part of the tutorial."
   ]
  },
  {
   "cell_type": "code",
   "execution_count": null,
   "metadata": {},
   "outputs": [],
   "source": []
  }
 ],
 "metadata": {
  "interpreter": {
   "hash": "d37b4f6678920e1a5e3f7c96bb0fd4c6f9d453d96ae60faade55505d9378739b"
  },
  "kernelspec": {
   "display_name": "Python 3.8.12 64-bit ('hemlock-tutorial': conda)",
   "language": "python",
   "name": "python3"
  },
  "language_info": {
   "codemirror_mode": {
    "name": "ipython",
    "version": 3
   },
   "file_extension": ".py",
   "mimetype": "text/x-python",
   "name": "python",
   "nbconvert_exporter": "python",
   "pygments_lexer": "ipython3",
   "version": "3.8.12"
  },
  "orig_nbformat": 4
 },
 "nbformat": 4,
 "nbformat_minor": 2
}
