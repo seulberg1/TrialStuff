{
 "cells": [
  {
   "cell_type": "markdown",
   "metadata": {},
   "source": [
    "# Utilities\n",
    "\n",
    "In this part of the tutorial, we'll learn how to use some of Hemlock's utilities: figures and random assignment.\n",
    "\n",
    "Run the cell below to create a test app."
   ]
  },
  {
   "cell_type": "code",
   "execution_count": null,
   "metadata": {},
   "outputs": [],
   "source": [
    "import os\n",
    "\n",
    "from flask_login import current_user\n",
    "from hemlock import User, Page, create_test_app\n",
    "from hemlock.questions import Input, Label\n",
    "from hemlock.utils.random import Assigner\n",
    "from hemlock.utils.statics import make_figure\n",
    "\n",
    "os.environ.pop(\"GITPOD_HOST\", None)\n",
    "\n",
    "app = create_test_app()"
   ]
  },
  {
   "cell_type": "markdown",
   "metadata": {},
   "source": [
    "## Figures\n",
    "\n",
    "We can add a figure to a label with the `make_figure` function. The first argument is the image source.\n",
    "\n",
    "In this example, the image source is a URL."
   ]
  },
  {
   "cell_type": "code",
   "execution_count": null,
   "metadata": {},
   "outputs": [],
   "source": [
    "Label(\n",
    "    make_figure(\n",
    "        \"https://imgs.xkcd.com/comics/wanna_see_the_code.png\",\n",
    "        figure_align=\"center\"\n",
    "    )\n",
    ").display()"
   ]
  },
  {
   "cell_type": "markdown",
   "metadata": {},
   "source": [
    "We can also add our own images. These are stored in a folder named `static` in the project's root directory (see the file explorer to the left).\n",
    "\n",
    "**Tip.** If you're using a large number of your own images (5-10 or more), don't store them in the `static` folder. Instead, upload them to cloud storage, make sure the URLs are public, and use those URLs as the image source."
   ]
  },
  {
   "cell_type": "code",
   "execution_count": null,
   "metadata": {},
   "outputs": [],
   "source": [
    "Label(\n",
    "    make_figure(\"../static/code_quality.png\", figure_align=\"center\")\n",
    ").display()"
   ]
  },
  {
   "cell_type": "markdown",
   "metadata": {},
   "source": [
    "**Note.** To use an imagine in your survey file, `my_survey.py`, file, replace `\"../static/IMAGE_FILENAME\"` with `flask.url_for(\"static\", filename=\"IMAGE_FILENAME\")`.\n",
    "\n",
    "So, instead of,\n",
    "\n",
    "```python\n",
    "Label(\n",
    "    make_figure(\"../static/code_quality.png\"), figure_align=\"center\")\n",
    ")\n",
    "```\n",
    "\n",
    "use\n",
    "\n",
    "```python\n",
    "from flask import url_for\n",
    "\n",
    "Label(\n",
    "    make_figure(url_for(\"static\", filename=\"code_quality.png\"), figure_align=\"center\")\n",
    ")\n",
    "```"
   ]
  },
  {
   "cell_type": "markdown",
   "metadata": {},
   "source": [
    "## Random assignment\n",
    "\n",
    "We can randomly assign users to conditions using the `Assigner`. The first argument is a dictionary mapping factor names to possible assignment values.\n",
    "\n",
    "In the example below, we create an `Assigner` to randomly assign users to either a treatment or control condition."
   ]
  },
  {
   "cell_type": "code",
   "execution_count": null,
   "metadata": {},
   "outputs": [],
   "source": [
    "assigner = Assigner({\"treatment\": (0, 1)})\n",
    "user = User.make_test_user()\n",
    "assigner.assign_user(user)"
   ]
  },
  {
   "cell_type": "markdown",
   "metadata": {},
   "source": [
    "Notice that `assign_user` returns a dictionary mapping factor names to the user's assigned values.\n",
    "\n",
    "The user's assignment is also stored in its metadata."
   ]
  },
  {
   "cell_type": "code",
   "execution_count": null,
   "metadata": {},
   "outputs": [],
   "source": [
    "user.get_meta_data()[\"treatment\"]"
   ]
  },
  {
   "cell_type": "markdown",
   "metadata": {},
   "source": [
    "Here's what random assignment looks like in a seed function. Notice that we don't have to pass the `user` argument to `assign_user` in this context."
   ]
  },
  {
   "cell_type": "code",
   "execution_count": null,
   "metadata": {},
   "outputs": [],
   "source": [
    "assigner = Assigner({\"treatment\": (0, 1)})\n",
    "\n",
    "def seed():\n",
    "    assignment = assigner.assign_user()\n",
    "    print(\"Treatment is\", assignment[\"treatment\"])\n",
    "    print(\"Treatment is\", current_user.get_meta_data()[\"treatment\"])\n",
    "    return [\n",
    "        Page(\n",
    "            Label(\"Hello, world!\")\n",
    "        )\n",
    "    ]\n",
    "\n",
    "\n",
    "_ = User.make_test_user(seed).test_get()"
   ]
  },
  {
   "cell_type": "code",
   "execution_count": null,
   "metadata": {},
   "outputs": [],
   "source": [
    "_ = User.make_test_user(seed).test_get()"
   ]
  },
  {
   "cell_type": "markdown",
   "metadata": {},
   "source": [
    "## Exercises\n",
    "\n",
    "Image we're creating a survey with a 2-factor design. On page 0, we'll show users a vignette to put them in a happy or sad mood. On page 1, we'll ask them to rate how funny one of two cartoons is.\n",
    "\n",
    "0. Create a survey with 3 pages:\n",
    "\n",
    "    0. A page with a `Label` with a vignette to put the user in a happy mood.\n",
    "    1. A page with an `Input` displaying a cartoon and asking the user to rate how funny it is.\n",
    "    2. A goodbye page.\n",
    "1. Create an assigner with 2 factors:\n",
    "\n",
    "    0. A factor named `\"mood\"`. The values are `\"happy\"` and `\"sad\"`.\n",
    "    1. A factor named `\"image\"`. The values are image sources. Use at least 1 image from a URL and 1 image from the `static` folder.\n",
    "\n",
    "2. Assign users to conditions by calling `assigner.assign_user()` in the seed function.\n",
    "3. Change the `Label` on page 0 so that, if the user was assigned to the `\"sad\"` condition, they see a vignette to put them in a sad mood.\n",
    "4. Change page 1 so the user sees their assigned image.\n",
    "5. Run test users through your survey and make sure the assigner and images are working as expected.\n",
    "6. Transfer the survey you wrote in steps 0-4 to `src/my_survey.py`, run the app, and verify that it's working as expected. Make sure to change `\"../static/IMAGE_FILENAME\"` to `url_for(\"static\", filename=\"IMAGE_FILENAME\")`.\n",
    "\n",
    "**Note.** If you're working in Gitpod, you likely won't see the image in the static folder when you run your app. This is completely fine. The image will display properly when it counts (that is, when you deploy your app and send it to users).\n",
    "\n",
    "7. Test your code with `make test`."
   ]
  },
  {
   "cell_type": "code",
   "execution_count": null,
   "metadata": {},
   "outputs": [],
   "source": [
    "# WRITE YOUR CODE HERE"
   ]
  },
  {
   "cell_type": "markdown",
   "metadata": {},
   "source": [
    "## Answers"
   ]
  },
  {
   "cell_type": "code",
   "execution_count": null,
   "metadata": {},
   "outputs": [],
   "source": [
    "assigner = Assigner(\n",
    "    {\"image\": (\"code_quality\", \"wanna_see_the_code\"), \"mood\": (\"happy\", \"sad\")}\n",
    ")\n",
    "\n",
    "\n",
    "def seed():\n",
    "    assignment = assigner.assign_user()\n",
    "    if assignment[\"image\"] == \"code_quality\":\n",
    "        img_src = \"../static/code_quality.png\"\n",
    "    else:\n",
    "        img_src = \"https://imgs.xkcd.com/comics/wanna_see_the_code.png\"\n",
    "        \n",
    "    return [\n",
    "        Page(\n",
    "            Label(\n",
    "                f\"\"\"\n",
    "                Here is a vignette designed to put you in a {assignment['mood']} mood.\n",
    "                \"\"\"\n",
    "            )\n",
    "        ),\n",
    "        Page(\n",
    "            Input(\n",
    "                f\"\"\"\n",
    "                From 1 (not funny at all) to 5 (very funny), how funny is this image?\n",
    "                {make_figure(img_src, figure_align=\"center\")}\n",
    "                \"\"\",\n",
    "                input_tag={\"type\": \"number\", \"min\": 1, \"max\": 5}\n",
    "            )\n",
    "        ),\n",
    "        Page(\n",
    "            Label(\"Goodbye!\")\n",
    "        )\n",
    "    ]"
   ]
  },
  {
   "cell_type": "code",
   "execution_count": null,
   "metadata": {},
   "outputs": [],
   "source": [
    "User.make_test_user(seed).test()"
   ]
  },
  {
   "cell_type": "markdown",
   "metadata": {},
   "source": [
    "See `src/utils.py` for what your survey file should look like.\n",
    "\n",
    "Now you know how to use some of Hemlock's utilities! Check out `110_deployment.md` for the next part of the tutorial."
   ]
  },
  {
   "cell_type": "code",
   "execution_count": null,
   "metadata": {},
   "outputs": [],
   "source": []
  }
 ],
 "metadata": {
  "interpreter": {
   "hash": "d37b4f6678920e1a5e3f7c96bb0fd4c6f9d453d96ae60faade55505d9378739b"
  },
  "kernelspec": {
   "display_name": "Python 3.8.12 64-bit ('hemlock-tutorial': conda)",
   "language": "python",
   "name": "python3"
  },
  "language_info": {
   "codemirror_mode": {
    "name": "ipython",
    "version": 3
   },
   "file_extension": ".py",
   "mimetype": "text/x-python",
   "name": "python",
   "nbconvert_exporter": "python",
   "pygments_lexer": "ipython3",
   "version": "3.8.12"
  },
  "orig_nbformat": 4
 },
 "nbformat": 4,
 "nbformat_minor": 2
}
