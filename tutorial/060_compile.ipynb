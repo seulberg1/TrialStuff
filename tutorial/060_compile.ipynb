{
 "cells": [
  {
   "cell_type": "markdown",
   "metadata": {},
   "source": [
    "# Compile functions\n",
    "\n",
    "In this part of the tutorial, we'll learn how to change pages and questions immediately before they are \"compiled\" and displayed to the user. Compile functions allow the survey to change based on a user's responses.\n",
    "\n",
    "Run the cell below to create a test app."
   ]
  },
  {
   "cell_type": "code",
   "execution_count": null,
   "metadata": {},
   "outputs": [],
   "source": [
    "import os\n",
    "\n",
    "from hemlock import User, Page, create_test_app\n",
    "from hemlock.functional import compile\n",
    "from hemlock.questions import Check, Input, Label\n",
    "from sqlalchemy_mutable.utils import partial\n",
    "\n",
    "os.environ.pop(\"GITPOD_HOST\", None)\n",
    "\n",
    "app = create_test_app()"
   ]
  },
  {
   "cell_type": "markdown",
   "metadata": {},
   "source": [
    "Suppose we have an `Input` on page 0 asking the user what their name is. One page 1, we want to greet them by saying, \"Hello, USERNAME!\"\n",
    "\n",
    "Our first thought might be to store the `Input` on page 0 in a variable `name_input`, then use the response (accessible with `name_input.response`) in a `Label` on page 1.\n",
    "\n",
    "Run the cell below and see what happens."
   ]
  },
  {
   "cell_type": "code",
   "execution_count": null,
   "metadata": {},
   "outputs": [],
   "source": [
    "def seed():\n",
    "    return [\n",
    "        Page(\n",
    "            name_input := Input(\"What's your name?\")\n",
    "        ),\n",
    "        Page(\n",
    "            Label(f\"Hello, {name_input.response}!\")\n",
    "        )\n",
    "    ]\n",
    "\n",
    "\n",
    "user = User.make_test_user(seed)\n",
    "user.test_request([\"Aristotle\"]).display()"
   ]
  },
  {
   "cell_type": "markdown",
   "metadata": {},
   "source": [
    "Why is the name `None`? Because we used `name_input.response` *before* the user responded the question. To implement the greeting, we need to set the greeting label *after* the user tells us their name.\n",
    "\n",
    "Fortunately, this is easy to do using compile functions. We can add compile functions to pages and questions by passing `compile=my_function`. Compile functions are called immediately before a page is displayed to the user. The compile function's first argument is always its \"parent\" - the page or question associated with it.\n",
    "\n",
    "In the example below, we define a function `foo` and then pass it to a `Label` using `Label(compile=foo)`.\n",
    "\n",
    "Run the cell below and notice that `foo` is called *after* the user enters their name."
   ]
  },
  {
   "cell_type": "code",
   "execution_count": null,
   "metadata": {},
   "outputs": [],
   "source": [
    "def seed():\n",
    "    return [\n",
    "        Page(\n",
    "            Input(\"What's your name?\")\n",
    "        ),\n",
    "        Page(\n",
    "            # this Label is passed to foo as \"label\"\n",
    "            Label(\"Greeting label.\", compile=foo)\n",
    "        )\n",
    "    ]\n",
    "\n",
    "\n",
    "def foo(label):\n",
    "    print(f\"foo was called with parent {label}.\")\n",
    "\n",
    "\n",
    "user = User.make_test_user(seed)\n",
    "_ = user.test_request([\"Aristotle\"])"
   ]
  },
  {
   "cell_type": "markdown",
   "metadata": {},
   "source": [
    "Compile functions are most useful when combined with *partial functions*. `partial` takes a function as its first argument and returns a partial function. The rest of the arguments and keyword arguments passed to `partial` are passed to the \"original\" function when we call it.\n",
    "\n",
    "In the example below, we define a function `foo` which takes two arguments: `argument0` and `argument1`. We then create a partial function `bar`. When we call `bar`, it will execute `foo(0, argument1=1)`."
   ]
  },
  {
   "cell_type": "code",
   "execution_count": null,
   "metadata": {},
   "outputs": [],
   "source": [
    "def foo(argument0, argument1):\n",
    "    print(\"argument0 is\", argument0, \"and argument 1 is\", argument1)\n",
    "\n",
    "\n",
    "bar = partial(foo, 0, argument1=1)\n",
    "bar"
   ]
  },
  {
   "cell_type": "code",
   "execution_count": null,
   "metadata": {},
   "outputs": [],
   "source": [
    "bar()"
   ]
  },
  {
   "cell_type": "markdown",
   "metadata": {},
   "source": [
    "The example below uses a \"partial compile function\" to implement our greeting.\n",
    "\n",
    "Note that, in the `greet_user` function, `greet_label` is a `Label` object. `greet_label.label` is the attribute of `greet_label` that stores the text displayed to the user."
   ]
  },
  {
   "cell_type": "code",
   "execution_count": null,
   "metadata": {},
   "outputs": [],
   "source": [
    "def seed():\n",
    "    return [\n",
    "        Page(\n",
    "            name_input := Input(\"What's your name?\")\n",
    "        ),\n",
    "        Page(\n",
    "            # this Label is passed to greet_user as \"greet_label\"\n",
    "            Label(compile=partial(greet_user, name_input))\n",
    "        )\n",
    "    ]\n",
    "\n",
    "\n",
    "def greet_user(greet_label, name_input):\n",
    "    greet_label.label = f\"Hello, {name_input.response}!\"\n",
    "\n",
    "\n",
    "user = User.make_test_user(seed)\n",
    "user.test_request([\"Aristotle\"]).display()"
   ]
  },
  {
   "cell_type": "markdown",
   "metadata": {},
   "source": [
    "There are some predefined compile functions we can use as well.\n",
    "\n",
    "For example, image we want to ask the user who their favorite artist is on page 1. If they go back to page 0 and then forward again to page 1, we want page 1 to be blank. However, Hemlock's default is to save the user's page 1 responses when they go back and forth.\n",
    "\n",
    "Run the cell below to see how this works."
   ]
  },
  {
   "cell_type": "code",
   "execution_count": null,
   "metadata": {},
   "outputs": [],
   "source": [
    "def seed():\n",
    "    return [\n",
    "        Page(\n",
    "            Label(\"Hello, world!\")\n",
    "        ),\n",
    "        Page(\n",
    "            Input(\"Who's your favorite artist?\"),\n",
    "            back=True\n",
    "        ),\n",
    "        Page(\n",
    "            Label(\"Goodbye!\")\n",
    "        )\n",
    "    ]\n",
    "\n",
    "\n",
    "user = User.make_test_user(seed)\n",
    "# go to page 1\n",
    "user.test_request()\n",
    "# fill in \"Monet\" and then go back to page 0\n",
    "user.test_request([\"Monet\"], direction=\"back\")\n",
    "# go forward to page 1 and notice that \"Monet\" is filled in on page 1\n",
    "user.test_request().display()"
   ]
  },
  {
   "cell_type": "markdown",
   "metadata": {},
   "source": [
    "We can use `compile=compile.clear_response()` to clear the page 1 responses every time the user goes back and forth between pages 0 and 1."
   ]
  },
  {
   "cell_type": "code",
   "execution_count": null,
   "metadata": {},
   "outputs": [],
   "source": [
    "def seed():\n",
    "    return [\n",
    "        Page(\n",
    "            Label(\"Hello, world!\")\n",
    "        ),\n",
    "        Page(\n",
    "            Input(\n",
    "                \"Who's your favorite artist?\",\n",
    "                compile=compile.clear_response()\n",
    "            ),\n",
    "            back=True\n",
    "        ),\n",
    "        Page(\n",
    "            Label(\"Goodbye!\")\n",
    "        )\n",
    "    ]\n",
    "\n",
    "\n",
    "user = User.make_test_user(seed)\n",
    "user.test_request()\n",
    "user.test_request([\"Monet\"], direction=\"back\")\n",
    "user.test_request().display()"
   ]
  },
  {
   "cell_type": "markdown",
   "metadata": {},
   "source": [
    "## Exercises\n",
    "\n",
    "0. Create a survey with 2 pages:\n",
    "\n",
    "    0. A page with:\n",
    "\n",
    "        0. A `Check` question asking the user if they made a new year's resolution to lose weight (the choices are \"Yes\" and \"No\").\n",
    "        1. An `Input` question asking, if so, how many pounds the user wants to lose.\n",
    "\n",
    "    1. A page with a `Label`.\n",
    "1. Add a compile function that changes the label on page 1 based on the user's responses to page 0:\n",
    "\n",
    "    0. If the user resolved to lose weight, the label should read, \"Good luck reaching your goal of losing XX pounds!\"\n",
    "    1. If the user didn't resolve to lose weight, the label should read, \"Congratulations on being at your target weight!\"\n",
    "2. Make a test user. On page 0, make the test user say that they resolved to lose 10 pounds. Check that the label on page 1 reads, \"Good luck reaching your goal of losing 10 pounds!\"\n",
    "3. Make another test user. On page 0, make the test user say that they didn't resolve to lose weight. Check that the label on page 1 reads, \"Congratulations on being at your target weight!\"\n",
    "4. Transfer the seed function you wrote in steps 0-1 to `src/my_survey.py`, run the app, and repeat the exercise from steps 2-3 in your browser.\n",
    "5. Test your code with `make test`"
   ]
  },
  {
   "cell_type": "code",
   "execution_count": null,
   "metadata": {},
   "outputs": [],
   "source": [
    "# WRITE YOUR CODE HERE"
   ]
  },
  {
   "cell_type": "markdown",
   "metadata": {},
   "source": [
    "## Answers"
   ]
  },
  {
   "cell_type": "code",
   "execution_count": null,
   "metadata": {},
   "outputs": [],
   "source": [
    "def seed():\n",
    "    return [\n",
    "        Page(\n",
    "            resolved_to_lose_weight := Check(\n",
    "                \"Did you make a new year's resolution to lose weight?\",\n",
    "                [(1, \"Yes\"), (0, \"No\")]\n",
    "            ),\n",
    "            weight_loss_amount := Input(\n",
    "                \"If so, how many pounds do you want to lose?\",\n",
    "                input_tag={\"type\": \"number\", \"min\": 0}\n",
    "            )\n",
    "        ),\n",
    "        Page(\n",
    "            Label(\n",
    "                compile=partial(make_label, resolved_to_lose_weight, weight_loss_amount)\n",
    "            )\n",
    "        )\n",
    "    ]\n",
    "\n",
    "\n",
    "def make_label(input, resolved_to_lose_weight, weight_loss_amount):\n",
    "    if resolved_to_lose_weight.response:\n",
    "        input.label = f\"Good luck reaching your goal of losing {weight_loss_amount.response} pounds!\"\n",
    "    else:\n",
    "        input.label = \"Congratulations on being at your target weight!\"\n",
    "\n",
    "\n",
    "user = User.make_test_user(seed)\n",
    "user.test_request([1, 10]).display()"
   ]
  },
  {
   "cell_type": "code",
   "execution_count": null,
   "metadata": {},
   "outputs": [],
   "source": [
    "user = User.make_test_user(seed)\n",
    "user.test_request([0, None]).display()"
   ]
  },
  {
   "cell_type": "markdown",
   "metadata": {},
   "source": [
    "See `src/compile.py` for what your survey file should look like.\n",
    "\n",
    "Now you know how to use compile functions! Check out `070_validate.ipynb` for the next part of the tutorial."
   ]
  },
  {
   "cell_type": "code",
   "execution_count": null,
   "metadata": {},
   "outputs": [],
   "source": []
  }
 ],
 "metadata": {
  "interpreter": {
   "hash": "d37b4f6678920e1a5e3f7c96bb0fd4c6f9d453d96ae60faade55505d9378739b"
  },
  "kernelspec": {
   "display_name": "Python 3.8.12 64-bit ('hemlock-tutorial': conda)",
   "language": "python",
   "name": "python3"
  },
  "language_info": {
   "codemirror_mode": {
    "name": "ipython",
    "version": 3
   },
   "file_extension": ".py",
   "mimetype": "text/x-python",
   "name": "python",
   "nbconvert_exporter": "python",
   "pygments_lexer": "ipython3",
   "version": "3.8.12"
  },
  "orig_nbformat": 4
 },
 "nbformat": 4,
 "nbformat_minor": 2
}
