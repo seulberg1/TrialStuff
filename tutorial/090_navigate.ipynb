{
 "cells": [
  {
   "cell_type": "markdown",
   "metadata": {},
   "source": [
    "# Navigation\n",
    "\n",
    "In this part of the tutorial, we'll learn how to create and navigate between multiple lists of pages called *branches*.\n",
    "\n",
    "Navigate functions are useful for things like adaptive testing: when we ask users harder questions if and only if they get easier questions correct first.\n",
    "\n",
    "Run the cell below to create a test app."
   ]
  },
  {
   "cell_type": "code",
   "execution_count": 4,
   "metadata": {},
   "outputs": [],
   "source": [
    "import os\n",
    "\n",
    "from hemlock import User, Page, create_test_app\n",
    "from hemlock.questions import Input, Label\n",
    "\n",
    "os.environ.pop(\"GITPOD_HOST\", None)\n",
    "\n",
    "app = create_test_app()"
   ]
  },
  {
   "cell_type": "markdown",
   "metadata": {},
   "source": [
    "We can add a navigate function to a page by passing `navigate=some_navigate_function`. The navigate function take its \"parent\" page as its argument and returns a list of pages. After the page with the navigate function, the user is redirected to the branch returned by the navigate function."
   ]
  },
  {
   "cell_type": "code",
   "execution_count": null,
   "metadata": {},
   "outputs": [],
   "source": [
    "def seed():\n",
    "    return [\n",
    "        Page(\n",
    "            Label(\"Hello, world!\"),\n",
    "            navigate=make_next_branch\n",
    "        )\n",
    "    ]\n",
    "\n",
    "\n",
    "def make_next_branch(page):\n",
    "    return [\n",
    "        Page(\n",
    "            Label(\"Goodbye, world!\")\n",
    "        )\n",
    "    ]\n",
    "\n",
    "\n",
    "user = User.make_test_user(seed)\n",
    "user.test_get().display()"
   ]
  },
  {
   "cell_type": "code",
   "execution_count": null,
   "metadata": {},
   "outputs": [],
   "source": [
    "user.test_request().display()"
   ]
  },
  {
   "cell_type": "markdown",
   "metadata": {},
   "source": [
    "In this figure, we can see how compile, validate, submit, and navigate functions work together in the \"page logic.\"\n",
    "\n",
    "<img src=\"../static/page_logic.png\" style=\"background-color:white;width=100%\">\n",
    "\n",
    "We can also get a sense of the page logic by running the cell below. When the user submits the 0th page, the following things happen:\n",
    "\n",
    "0. The 0th page's validate functions are called.\n",
    "1. If the responses are valid, the 0th page's submit functions are called.\n",
    "2. The user is redirected to the branch returned by the 0th page's navigate function\n",
    "3. The next page's compile functions are called.\n",
    "4. The user sees the next page."
   ]
  },
  {
   "cell_type": "code",
   "execution_count": null,
   "metadata": {},
   "outputs": [],
   "source": [
    "def seed():\n",
    "    return [\n",
    "        Page(\n",
    "            Label(\n",
    "                \"Hello, world!\",\n",
    "                validate=validate_func,\n",
    "                submit=submit_func\n",
    "            ),\n",
    "            navigate=navigate_func\n",
    "        )\n",
    "    ]\n",
    "\n",
    "\n",
    "def validate_func(parent):\n",
    "    print(f\"validate_func was called with parent {parent}.\")\n",
    "\n",
    "\n",
    "def submit_func(parent):\n",
    "    print(f\"submit_func was called with parent {parent}.\")\n",
    "\n",
    "\n",
    "def navigate_func(parent):\n",
    "    print(f\"navigate func was called with parent {parent}.\")\n",
    "    return [\n",
    "        Page(\n",
    "            Label(\"Goodbye, world!\", compile=compile_func)\n",
    "        )\n",
    "    ]\n",
    "\n",
    "\n",
    "def compile_func(parent):\n",
    "    print(f\"compile_func was called with parent {parent}.\")\n",
    "\n",
    "\n",
    "user = User.make_test_user(seed)\n",
    "user.test_request().display()"
   ]
  },
  {
   "cell_type": "markdown",
   "metadata": {},
   "source": [
    "The cell below defines a basic adaptive test. It shows the user a hard and really hard question if and only if the user gets an easy question correct first."
   ]
  },
  {
   "cell_type": "code",
   "execution_count": null,
   "metadata": {},
   "outputs": [],
   "source": [
    "EASY_ANSWER = \"42\"\n",
    "HARD_ANSWER = \"88\"\n",
    "REALLY_HARD_ANSWER = \"76\"\n",
    "\n",
    "def seed():\n",
    "    return [\n",
    "        Page(\n",
    "            Input(f\"The correct answer to this easy question is '{EASY_ANSWER}'.\"),\n",
    "            navigate=make_hard_branch\n",
    "        ),\n",
    "        Page(\n",
    "            Label(\"Goodbye!\")\n",
    "        )\n",
    "    ]\n",
    "\n",
    "\n",
    "def make_hard_branch(page):\n",
    "    # ask the harder questions if and only if the user got the easy question correct\n",
    "    if page.questions[0].response != EASY_ANSWER:\n",
    "        return []\n",
    "\n",
    "    return [\n",
    "        Page(\n",
    "            Input(f\"The correct answer to this hard question is '{HARD_ANSWER}'.\"),\n",
    "        ),\n",
    "        Page(\n",
    "            Input(f\"The answer to this really hard question is '{REALLY_HARD_ANSWER}'.\")\n",
    "        )\n",
    "    ]\n",
    "\n",
    "\n",
    "user = User.make_test_user(seed)\n",
    "user.test_get().display()"
   ]
  },
  {
   "cell_type": "markdown",
   "metadata": {},
   "source": [
    "Look at the navigation tree above. Now, in the cell below, notice how the \"navigation tree\" changes when the user answers the easy question correctly. The 0th page now has pages 0.0 and 0.1 \"branching\" off of it. After page 0.1, the user goes to page 1.\n",
    "\n",
    "The green circle means that the user is currently on that page. The red circle is where the survey ends."
   ]
  },
  {
   "cell_type": "code",
   "execution_count": null,
   "metadata": {},
   "outputs": [],
   "source": [
    "user.test_request([EASY_ANSWER]).display()"
   ]
  },
  {
   "cell_type": "code",
   "execution_count": null,
   "metadata": {},
   "outputs": [],
   "source": [
    "user.test_request().display()"
   ]
  },
  {
   "cell_type": "code",
   "execution_count": null,
   "metadata": {},
   "outputs": [],
   "source": [
    "user.test_request().display()"
   ]
  },
  {
   "cell_type": "markdown",
   "metadata": {},
   "source": [
    "Now see what happens when the user answer the easy question incorrectly."
   ]
  },
  {
   "cell_type": "code",
   "execution_count": null,
   "metadata": {},
   "outputs": [],
   "source": [
    "user = User.make_test_user(seed)\n",
    "user.test_request([\"INCORRECT_ANSWER\"]).display()"
   ]
  },
  {
   "cell_type": "markdown",
   "metadata": {},
   "source": [
    "## Exercises\n",
    "\n",
    "0. Modify the adaptive test survey above so that the user gets the really hard question if and only if they answer the hard question correctly.\n",
    "1. Make a test user go through the survey and see what happens when:\n",
    "\n",
    "    0. You answer the easy and hard questions correctly.\n",
    "    1. You answer the easy question correctly but the hard question incorrectly.\n",
    "    2. You answer the easy question incorrectly.\n",
    "2. Transfer the survey you wrote in step 0 to `src/my_survey.py`, run the app, and verify that it's working as expected.\n",
    "3. Test your code with `make test`. To fully cover your code, make sure some of your users get the easy question right (and others get it wrong) and make sure some of your users get the hard question right (and others get it wrong)."
   ]
  },
  {
   "cell_type": "code",
   "execution_count": null,
   "metadata": {},
   "outputs": [],
   "source": [
    "# WRITE YOUR CODE HERE"
   ]
  },
  {
   "cell_type": "markdown",
   "metadata": {},
   "source": [
    "## Answers"
   ]
  },
  {
   "cell_type": "code",
   "execution_count": null,
   "metadata": {},
   "outputs": [],
   "source": [
    "EASY_ANSWER = \"42\"\n",
    "HARD_ANSWER = \"88\"\n",
    "REALLY_HARD_ANSWER = \"76\"\n",
    "\n",
    "def seed():\n",
    "    return [\n",
    "        Page(\n",
    "            Input(f\"The correct answer to this easy question is '{EASY_ANSWER}'.\"),\n",
    "            navigate=make_hard_branch\n",
    "        ),\n",
    "        Page(\n",
    "            Label(\"Goodbye!\")\n",
    "        )\n",
    "    ]\n",
    "\n",
    "\n",
    "def make_hard_branch(page):\n",
    "    # ask the harder questions if and only if the user got the easy question correct\n",
    "    if page.questions[0].response != EASY_ANSWER:\n",
    "        return []\n",
    "\n",
    "    return [\n",
    "        Page(\n",
    "            Input(f\"The correct answer to this hard question is '{HARD_ANSWER}'.\"),\n",
    "            navigate=make_really_hard_branch\n",
    "        )\n",
    "    ]\n",
    "\n",
    "\n",
    "def make_really_hard_branch(page):\n",
    "    if page.questions[0].response != HARD_ANSWER:\n",
    "        return []\n",
    "\n",
    "    return [\n",
    "        Page(\n",
    "            Input(f\"The answer to this really hard question is '{REALLY_HARD_ANSWER}'.\")\n",
    "        )\n",
    "    ]\n",
    "\n",
    "\n",
    "user = User.make_test_user(seed)\n",
    "user.test_get().display()"
   ]
  },
  {
   "cell_type": "code",
   "execution_count": null,
   "metadata": {},
   "outputs": [],
   "source": [
    "user.test_request([EASY_ANSWER]).display()"
   ]
  },
  {
   "cell_type": "code",
   "execution_count": null,
   "metadata": {},
   "outputs": [],
   "source": [
    "user.test_request([HARD_ANSWER]).display()"
   ]
  },
  {
   "cell_type": "code",
   "execution_count": null,
   "metadata": {},
   "outputs": [],
   "source": [
    "user.test_request([REALLY_HARD_ANSWER]).display()"
   ]
  },
  {
   "cell_type": "code",
   "execution_count": null,
   "metadata": {},
   "outputs": [],
   "source": [
    "user = User.make_test_user(seed)\n",
    "user.test_request([EASY_ANSWER]).display()"
   ]
  },
  {
   "cell_type": "code",
   "execution_count": null,
   "metadata": {},
   "outputs": [],
   "source": [
    "user.test_request([\"INCORRECT_ANSWER\"]).display()"
   ]
  },
  {
   "cell_type": "code",
   "execution_count": null,
   "metadata": {},
   "outputs": [],
   "source": [
    "user = User.make_test_user(seed)\n",
    "user.test_request([\"INCORRECT_ANSWER\"]).display()"
   ]
  },
  {
   "cell_type": "markdown",
   "metadata": {},
   "source": [
    "See `src/navigate.py` for what your survey file should look like.\n",
    "\n",
    "Now you know how to use navigate functions! Check out `100_utils.ipynb` for the next part of the tutorial."
   ]
  },
  {
   "cell_type": "code",
   "execution_count": null,
   "metadata": {},
   "outputs": [],
   "source": []
  }
 ],
 "metadata": {
  "interpreter": {
   "hash": "d37b4f6678920e1a5e3f7c96bb0fd4c6f9d453d96ae60faade55505d9378739b"
  },
  "kernelspec": {
   "display_name": "Python 3.8.12 64-bit ('hemlock-tutorial': conda)",
   "language": "python",
   "name": "python3"
  },
  "language_info": {
   "codemirror_mode": {
    "name": "ipython",
    "version": 3
   },
   "file_extension": ".py",
   "mimetype": "text/x-python",
   "name": "python",
   "nbconvert_exporter": "python",
   "pygments_lexer": "ipython3",
   "version": "3.8.12"
  },
  "orig_nbformat": 4
 },
 "nbformat": 4,
 "nbformat_minor": 2
}
