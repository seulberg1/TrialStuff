{
 "cells": [
  {
   "cell_type": "markdown",
   "metadata": {},
   "source": [
    "# Running an application\n",
    "\n",
    "In this part of the tutorial, we'll learn how to take the sketches we create in our notebook and turn them into an application.\n",
    "\n",
    "The cell below creates and tests a user on a short survey.\n",
    "\n",
    "Open `src/my_survey.py` to view the python file equivalent of this cell. (If you're having trouble, there's likely a navigation bar in the left part of the window. Click on the folder named `src` then the file named `my_survey.py`). Looking at `src/my_survey.py`, notice that:\n",
    "\n",
    "1. We \"decorate\" the seed function with `@User.route(\"/survey\")`. In our notebook, we tell our test users where to start the survey by passing the seed function to `make_test_user`. The decorator accomplishes the same thing in the python file.\n",
    "2. We don't need to create a test application or test users.\n",
    "\n",
    "Run the cell below."
   ]
  },
  {
   "cell_type": "code",
   "execution_count": null,
   "metadata": {},
   "outputs": [],
   "source": [
    "import os\n",
    "\n",
    "from hemlock import User, Page, create_test_app\n",
    "from hemlock.questions import Input, Label\n",
    "\n",
    "os.environ.pop(\"GITPOD_HOST\", None)\n",
    "\n",
    "def seed():\n",
    "    return [\n",
    "        Page(\n",
    "            Label(\"Hello, world!\")\n",
    "        ),\n",
    "        Page(\n",
    "            Label(\"Goodbye, world!\")\n",
    "        )\n",
    "    ]\n",
    "\n",
    "\n",
    "app = create_test_app()\n",
    "User.make_test_user(seed).test()"
   ]
  },
  {
   "cell_type": "markdown",
   "metadata": {},
   "source": [
    "Now enter the following in your terminal:\n",
    "\n",
    "```\n",
    "$ python app.py\n",
    "```\n",
    "\n",
    "If you're working in Gitpod, the \"simple browser\" will automatically open to your application. If you're working on your local machine, open an internet browser to <http://localhost:5000/>.\n",
    "\n",
    "Go through the survey in your browser and compare what you see to the output of the cell above.\n",
    "\n",
    "Press Ctrl + C in your terminal when you're done."
   ]
  },
  {
   "cell_type": "markdown",
   "metadata": {},
   "source": [
    "## Exercises\n",
    "\n",
    "0. Modify the seed function in your survey file (`src/my_survey.py`) to run survey in the cell below\n",
    "1. Run the survey (enter `python app.py` in your terminal) and make sure the 0th page contains an `Input` asking you where you want to go on holiday"
   ]
  },
  {
   "cell_type": "code",
   "execution_count": null,
   "metadata": {},
   "outputs": [],
   "source": [
    "def seed():\n",
    "    return [\n",
    "        Page(\n",
    "            Input(\"Where do you most want to go on holiday?\")\n",
    "        ),\n",
    "        Page(\n",
    "            Label(\"Goodbye!\")\n",
    "        )\n",
    "    ]\n",
    "\n",
    "\n",
    "User.make_test_user(seed).test()"
   ]
  },
  {
   "cell_type": "markdown",
   "metadata": {},
   "source": [
    "## Answers\n",
    "\n",
    "Open `src/application.py` to see what your seed function should look like.\n",
    "\n",
    "Now you know how to edit and run an application! Check out `040_testing.ipynb` for the next part of the tutorial."
   ]
  },
  {
   "cell_type": "markdown",
   "metadata": {},
   "source": []
  }
 ],
 "metadata": {
  "interpreter": {
   "hash": "d37b4f6678920e1a5e3f7c96bb0fd4c6f9d453d96ae60faade55505d9378739b"
  },
  "kernelspec": {
   "display_name": "Python 3.8.12 64-bit ('hemlock-tutorial': conda)",
   "language": "python",
   "name": "python3"
  },
  "language_info": {
   "codemirror_mode": {
    "name": "ipython",
    "version": 3
   },
   "file_extension": ".py",
   "mimetype": "text/x-python",
   "name": "python",
   "nbconvert_exporter": "python",
   "pygments_lexer": "ipython3",
   "version": "3.8.12"
  },
  "orig_nbformat": 4
 },
 "nbformat": 4,
 "nbformat_minor": 2
}
