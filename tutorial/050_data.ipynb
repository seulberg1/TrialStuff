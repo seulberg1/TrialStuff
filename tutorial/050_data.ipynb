{
 "cells": [
  {
   "cell_type": "markdown",
   "metadata": {},
   "source": [
    "# Collecting data\n",
    "\n",
    "In this part of the tutorial, we'll learn how to record our users' data.\n",
    "\n",
    "Run the cell below to create a test application."
   ]
  },
  {
   "cell_type": "code",
   "execution_count": null,
   "metadata": {},
   "outputs": [],
   "source": [
    "import os\n",
    "\n",
    "from hemlock import User, Page, create_test_app\n",
    "from hemlock.questions import Check, Input, Label\n",
    "from hemlock.timer import Timer\n",
    "\n",
    "os.environ.pop(\"GITPOD_HOST\", None)\n",
    "\n",
    "app = create_test_app()"
   ]
  },
  {
   "cell_type": "markdown",
   "metadata": {},
   "source": [
    "We can get a user's data with the `get_data` method."
   ]
  },
  {
   "cell_type": "code",
   "execution_count": null,
   "metadata": {},
   "outputs": [],
   "source": [
    "user = User.make_test_user()\n",
    "user.get_data()"
   ]
  },
  {
   "cell_type": "markdown",
   "metadata": {},
   "source": [
    "To record a user's response to a question, simply pass `variable=\"some_variable_name\"`.\n",
    "\n",
    "In the example below, we ask the user for their name and record it in a variable called `\"name\"`."
   ]
  },
  {
   "cell_type": "code",
   "execution_count": null,
   "metadata": {},
   "outputs": [],
   "source": [
    "def seed():\n",
    "    return [\n",
    "        Page(\n",
    "            Input(\n",
    "                \"What's your name?\",\n",
    "                variable=\"name\"\n",
    "            )\n",
    "        ),\n",
    "        Page(\n",
    "            Label(\"Goodbye!\")\n",
    "        )\n",
    "    ]\n",
    "\n",
    "\n",
    "user = User.make_test_user(seed)\n",
    "user.test_request([\"Plato\"])\n",
    "user.get_data()"
   ]
  },
  {
   "cell_type": "markdown",
   "metadata": {},
   "source": [
    "We can recode the values of `Check` and `Select` questions using tuples. The tuples are (choice value, choice label). The label is what the user sees. The value is what gets recorded.\n",
    "\n",
    "In the example below, we ask the user how they're feeling today. The choices are labeled `\"Bad\"`, `\"Neutral\"`, and `\"Good\"`, with values `-1`, `0`, and `1` respectively.\n",
    "\n",
    "During testing, the test response is the choice's *value*, not the choice's *label*. For example, if we want the user to say they're feeling good, the test response is `1`, not `\"Good\"`."
   ]
  },
  {
   "cell_type": "code",
   "execution_count": null,
   "metadata": {},
   "outputs": [],
   "source": [
    "def seed():\n",
    "    return [\n",
    "        Page(\n",
    "            Check(\n",
    "                \"How are you feeling today?\",\n",
    "                [(-1, \"Bad\"), (0, \"Neutral\"), (1, \"Good\")],\n",
    "                variable=\"mood\"\n",
    "            )\n",
    "        ),\n",
    "        Page(\n",
    "            Label(\"Goodbye!\")\n",
    "        )\n",
    "    ]\n",
    "\n",
    "user = User.make_test_user(seed)\n",
    "user.test_request([1])\n",
    "user.get_data()"
   ]
  },
  {
   "cell_type": "markdown",
   "metadata": {},
   "source": [
    "The data from multiple choice questions are automatically one-hot encoded."
   ]
  },
  {
   "cell_type": "code",
   "execution_count": null,
   "metadata": {},
   "outputs": [],
   "source": [
    "def seed():\n",
    "    return [\n",
    "        Page(\n",
    "            Check(\n",
    "                \"Which composers do you like?\",\n",
    "                [\"Mozart\", \"Chopin\", \"Beethoven\"],\n",
    "                multiple=True,\n",
    "                variable=\"composer\"\n",
    "            )\n",
    "        ),\n",
    "        Page(\n",
    "            Label(\"Goodbye!\")\n",
    "        )\n",
    "    ]\n",
    "\n",
    "user = User.make_test_user(seed)\n",
    "user.test_request([{\"Chopin\", \"Beethoven\"}])\n",
    "user.get_data()"
   ]
  },
  {
   "cell_type": "markdown",
   "metadata": {},
   "source": [
    "We can also record data by passing `data=[(\"variable_name\", value)]` to a page.\n",
    "\n",
    "In the example below, we add data indicating that the user is on the red team."
   ]
  },
  {
   "cell_type": "code",
   "execution_count": null,
   "metadata": {},
   "outputs": [],
   "source": [
    "def seed():\n",
    "    return [\n",
    "        Page(\n",
    "            Label(\"Goodbye!\"),\n",
    "            data=[(\"team\", \"red\")]\n",
    "        )\n",
    "    ]\n",
    "\n",
    "user = User.make_test_user(seed)\n",
    "user.test_get()\n",
    "user.get_data()"
   ]
  },
  {
   "cell_type": "markdown",
   "metadata": {},
   "source": [
    "If the value of the data is a `list`, each item of the list will appear on a different row of the dataframe.\n",
    "\n",
    "For example, imagine we want to ask an employee about their experiences working with 2 teams: the red team and the blue team. We want to record the employee's experience with the red team on one row and their experience with the blue team on another."
   ]
  },
  {
   "cell_type": "code",
   "execution_count": null,
   "metadata": {},
   "outputs": [],
   "source": [
    "def seed():\n",
    "    return [\n",
    "        Page(\n",
    "            Label(\"Goodbye!\"),\n",
    "            data=[(\"teams\", [\"red\", \"blue\"])]\n",
    "        )\n",
    "    ]\n",
    "\n",
    "user = User.make_test_user(seed)\n",
    "user.test_get()\n",
    "user.get_data()"
   ]
  },
  {
   "cell_type": "markdown",
   "metadata": {},
   "source": [
    "We often want the data from one question to appear on all rows of a user's dataframe. We can do this by passing `fill_rows=True` to a question.\n",
    "\n",
    "In the example below, we ask the user for their name and give them 2 rows: 1 for the red team and 1 for the blue team. We want the user's name to appear in both rows."
   ]
  },
  {
   "cell_type": "code",
   "execution_count": null,
   "metadata": {},
   "outputs": [],
   "source": [
    "def seed():\n",
    "    return [\n",
    "        Page(\n",
    "            Input(\n",
    "                \"What's your name?\",\n",
    "                variable=\"name\",\n",
    "                fill_rows=True\n",
    "            ),\n",
    "            data=[(\"team\", [\"red\", \"blue\"])]\n",
    "        ),\n",
    "        Page(\n",
    "            Label(\"Goodbye!\")\n",
    "        )\n",
    "    ]\n",
    "\n",
    "\n",
    "user = User.make_test_user(seed)\n",
    "user.test_request([\"Plato\"])\n",
    "user.get_data()"
   ]
  },
  {
   "cell_type": "markdown",
   "metadata": {},
   "source": [
    "Multiple questions with the same variable name will appear in different rows of the user's dataframe.\n",
    "\n",
    "In the example below, we ask the user for their willingness to pay (WTP) for 3 items. We record the data for all 3 items using the variable name `\"wtp\"`. The resuling dataframe has 3 rows: 1 for each item."
   ]
  },
  {
   "cell_type": "code",
   "execution_count": null,
   "metadata": {},
   "outputs": [],
   "source": [
    "def seed():\n",
    "    return [\n",
    "        Page(\n",
    "            *[\n",
    "                Input(\n",
    "                    f\"How much would you pay for item {item_number}?\",\n",
    "                    variable=\"wtp\",\n",
    "                    input_tag={\"type\": \"number\", \"min\": 0}\n",
    "                )\n",
    "                for item_number in range(3)\n",
    "            ]\n",
    "        ),\n",
    "        Page(\n",
    "            Label(\"Goodbye!\")\n",
    "        )\n",
    "    ]\n",
    "\n",
    "\n",
    "user = User.make_test_user(seed)\n",
    "# willingness to pay is $10 for item 0, $11 for item 1, and $12 for item 2\n",
    "user.test_request([10, 11, 12])\n",
    "user.get_data()"
   ]
  },
  {
   "cell_type": "markdown",
   "metadata": {},
   "source": [
    "We can record the number of seconds a user spends on a page by passing `timer=\"timer_variable_name\"`.\n",
    "\n",
    "In the example below, we record the time a user spends on page 0 in the variable `\"seconds_spent_on_page0\"`."
   ]
  },
  {
   "cell_type": "code",
   "execution_count": null,
   "metadata": {},
   "outputs": [],
   "source": [
    "def seed():\n",
    "    return [\n",
    "        Page(\n",
    "            Label(\"Hello, world!\"),\n",
    "            timer=\"seconds_spent_on_page0\"\n",
    "        ),\n",
    "        Page(\n",
    "            Label(\"Goodbye, world!\")\n",
    "        )\n",
    "    ]\n",
    "\n",
    "user = User.make_test_user(seed)\n",
    "user.test_request()\n",
    "user.get_data()"
   ]
  },
  {
   "cell_type": "markdown",
   "metadata": {},
   "source": [
    "We can make the timer's data appear on all rows of the dataframe by passing `timer=Timer(\"timer_variable_name\", fill_rows=True)`."
   ]
  },
  {
   "cell_type": "code",
   "execution_count": null,
   "metadata": {},
   "outputs": [],
   "source": [
    "def seed():\n",
    "    return [\n",
    "        Page(\n",
    "            Label(\"Hello, world!\"),\n",
    "            data=[(\"team\", [\"red\", \"blue\"])],\n",
    "            timer=Timer(\"seconds_spent_on_page0\", fill_rows=True)\n",
    "        ),\n",
    "        Page(\n",
    "            Label(\"Goodbye, world!\")\n",
    "        )\n",
    "    ]\n",
    "\n",
    "user = User.make_test_user(seed)\n",
    "user.test_request()\n",
    "user.get_data()"
   ]
  },
  {
   "cell_type": "markdown",
   "metadata": {},
   "source": [
    "## Exercises\n",
    "\n",
    "0. Create a survey with 2 pages:\n",
    "\n",
    "    0. A page with 3 `Check` questions asking how the user was feeling 3 days ago, 2 days ago, and yesterday. Allow multiple responses. For example, a user could be both happy and optimistic.\n",
    "    1. A goodbye page.\n",
    "1. Record the data for all 3 questions on page 0 in a variable `\"mood\"`.\n",
    "2. Add data to page 0 indicating which day is associated with which row. So, the dataframe should contain a new column (named something like `\"days_ago\"`) containing the values `\"3 days ago\"`, `\"2 days ago\"`, and `\"yesterday\"`.\n",
    "3. Add a timer to record how many seconds the user spent on page 0. The data from this timer should appear on all rows of the dataframe.\n",
    "4. Run a test user through your survey and display the resulting dataframe.\n",
    "5. Replace the seed function in `src/my_survey.py` with the one you wrote in exercises 0-3. Run the application and go through the survey in your browser.\n",
    "6. Download the data:\n",
    "\n",
    "    0. If you're working in Gitpod, you can't do this in the simple browser. Instead, copy and paste the URL from the simple browser into a new tab in your real browser, then append \"/admin-download\" to the URL. If you're having trouble, rewatch the \"Getting stared\" video.\n",
    "    1. If you're working on your local machine, go to <http://localhost:5000/admin-download>.\n",
    "7. Test your code with `make test`"
   ]
  },
  {
   "cell_type": "code",
   "execution_count": null,
   "metadata": {},
   "outputs": [],
   "source": [
    "# WRITE YOUR CODE HERE"
   ]
  },
  {
   "cell_type": "markdown",
   "metadata": {},
   "source": [
    "## Answers"
   ]
  },
  {
   "cell_type": "code",
   "execution_count": null,
   "metadata": {},
   "outputs": [],
   "source": [
    "def seed():\n",
    "    days_ago = [\"3 days ago\", \"2 days ago\", \"yesterday\"]\n",
    "    return [\n",
    "        Page(\n",
    "            *[\n",
    "                Check(\n",
    "                    f\"How were you feeling {day}?\",\n",
    "                    [\"Happy\", \"Sad\", \"Optimistic\", \"Pessimistic\"],\n",
    "                    multiple=True,\n",
    "                    variable=\"mood\"\n",
    "                )\n",
    "                for day in days_ago\n",
    "            ],\n",
    "            data=[(\"days_ago\", days_ago)],\n",
    "            timer=Timer(\"mood_seconds\", fill_rows=True)\n",
    "        ),\n",
    "        Page(\n",
    "            Label(\"Goodbye!\")\n",
    "        )\n",
    "    ]\n",
    "\n",
    "\n",
    "user = User.make_test_user(seed)\n",
    "user.test_request([{\"Happy\"}, {\"Sad\"}, {\"Happy\", \"Optimistic\"}])\n",
    "user.get_data()"
   ]
  },
  {
   "cell_type": "markdown",
   "metadata": {},
   "source": [
    "See `src/data.py` for what this should look like in your survey file.\n",
    "\n",
    "Now you know how to collect and download your users' data! Check out `060_compile.ipynb` for the next part of the tutorial."
   ]
  },
  {
   "cell_type": "code",
   "execution_count": null,
   "metadata": {},
   "outputs": [],
   "source": []
  }
 ],
 "metadata": {
  "interpreter": {
   "hash": "d37b4f6678920e1a5e3f7c96bb0fd4c6f9d453d96ae60faade55505d9378739b"
  },
  "kernelspec": {
   "display_name": "Python 3.8.12 64-bit ('hemlock-tutorial': conda)",
   "language": "python",
   "name": "python3"
  },
  "language_info": {
   "codemirror_mode": {
    "name": "ipython",
    "version": 3
   },
   "file_extension": ".py",
   "mimetype": "text/x-python",
   "name": "python",
   "nbconvert_exporter": "python",
   "pygments_lexer": "ipython3",
   "version": "3.8.12"
  },
  "orig_nbformat": 4
 },
 "nbformat": 4,
 "nbformat_minor": 2
}
