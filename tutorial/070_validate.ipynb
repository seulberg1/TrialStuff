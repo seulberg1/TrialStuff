{
 "cells": [
  {
   "cell_type": "markdown",
   "metadata": {},
   "source": [
    "# Validation\n",
    "\n",
    "In this part of the tutorial, we'll learn how to validate user responses.\n",
    "\n",
    "Run the cell below to create a test app."
   ]
  },
  {
   "cell_type": "code",
   "execution_count": null,
   "metadata": {},
   "outputs": [],
   "source": [
    "import os\n",
    "\n",
    "from hemlock import User, Page, create_test_app\n",
    "from hemlock.functional import validate\n",
    "from hemlock.questions import Check, Input, Label\n",
    "from sqlalchemy_mutable.utils import partial\n",
    "\n",
    "os.environ.pop(\"GITPOD_HOST\", None)\n",
    "\n",
    "app = create_test_app()"
   ]
  },
  {
   "cell_type": "markdown",
   "metadata": {},
   "source": [
    "We've already seen examples of validation when we passed `input_tag={\"type\": \"number\", \"min\": 0}` to an `Input`. This requires the user, if they enter a response, to enter a number greater than 0.\n",
    "\n",
    "Similarly, we can require users to respond to an `Input` by passing `input_tag={\"required\": True}`."
   ]
  },
  {
   "cell_type": "code",
   "execution_count": null,
   "metadata": {},
   "outputs": [],
   "source": [
    "def seed():\n",
    "    return [\n",
    "        Page(\n",
    "            Input(\n",
    "                \"What's your name?\",\n",
    "                input_tag={\"required\": True}\n",
    "            )\n",
    "        ),\n",
    "        Page(\n",
    "            Label(\"Goodbye!\")\n",
    "        )\n",
    "    ]"
   ]
  },
  {
   "cell_type": "markdown",
   "metadata": {},
   "source": [
    "Unfortunately, we can't use the `input_tag={\"required\": True}` pattern for `Check` questions.\n",
    "\n",
    "Instead, we'll use a *validate function*. Validate functions are similar to the compile functions we learned about before.\n",
    "\n",
    "In this example, we'll use a built-in validate function `validate.require_response(\"My feedback message.\")`. The feedback message is what the user will see if they don't respond.\n",
    "\n",
    "Run the cell below and see what happens when the user doesn't respond."
   ]
  },
  {
   "cell_type": "code",
   "execution_count": null,
   "metadata": {},
   "outputs": [],
   "source": [
    "def seed():\n",
    "    return [\n",
    "        Page(\n",
    "            Check(\n",
    "                \"Which of these animals do you like best?\",\n",
    "                [\"Lions\", \"Tigers\", \"Bears\"],\n",
    "                validate=validate.require_response(\"Please select your favorite animal.\")\n",
    "            )\n",
    "        ),\n",
    "        Page(\n",
    "            Label(\"Goodbye!\")\n",
    "        )\n",
    "    ]\n",
    "\n",
    "\n",
    "user = User.make_test_user(seed)\n",
    "user.test_request([None]).display()"
   ]
  },
  {
   "cell_type": "markdown",
   "metadata": {},
   "source": [
    "Now see what happens when the user *does* respond."
   ]
  },
  {
   "cell_type": "code",
   "execution_count": null,
   "metadata": {},
   "outputs": [],
   "source": [
    "user.test_request([\"Lions\"]).display()"
   ]
  },
  {
   "cell_type": "markdown",
   "metadata": {},
   "source": [
    "We can use another built-in validate function, `validate.compare_response`, to compare the user's response to some value.\n",
    "\n",
    "In the example below, we ask the user what's the most and least they would expect to pay for some item. We then validate that the least they would expect to pay is less than the most they would expect to pay.\n",
    "\n",
    "Look at the expression \n",
    "\n",
    "```\n",
    "validate.compare_response(\n",
    "    max_payment,\n",
    "    comparison=\"<=\",\n",
    "    feedback=\"The least you'd expect to pay should be less than the most you'd expect to pay.\"\n",
    ")\n",
    "```\n",
    "\n",
    "This means, \"The user's response to the current question should be less than or equal to their response to `max_payment`. If it isn't, tell them, 'The least you'd expect to pay should be less than the most you'd expect to pay.'\"\n",
    "\n",
    "Run the cell below to see what happens when the user enters an invalid response."
   ]
  },
  {
   "cell_type": "code",
   "execution_count": null,
   "metadata": {},
   "outputs": [],
   "source": [
    "def seed():\n",
    "    return [\n",
    "        Page(\n",
    "            max_payment := Input(\n",
    "                \"What's the most you would expect to pay for this item?\",\n",
    "                input_tag={\"type\": \"number\", \"min\": 0, \"required\": True}\n",
    "            ),\n",
    "            Input(\n",
    "                \"What's the least you would expect to pay for this item?\",\n",
    "                input_tag={\"type\": \"number\", \"min\": 0, \"required\": True},\n",
    "                # this is the validate function referenced above\n",
    "                validate=validate.compare_response(\n",
    "                    max_payment,\n",
    "                    comparison=\"<=\",\n",
    "                    feedback=\"The least you'd expect to pay should be less than the most you'd expect to pay.\"\n",
    "                )\n",
    "            )\n",
    "        ),\n",
    "        Page(\n",
    "            Label(\"Goodbye!\")\n",
    "        )\n",
    "    ]\n",
    "\n",
    "\n",
    "user = User.make_test_user(seed)\n",
    "user.test_request([10, 20]).display()"
   ]
  },
  {
   "cell_type": "markdown",
   "metadata": {},
   "source": [
    "Run the cell below to see what happens when the user enters a valid response."
   ]
  },
  {
   "cell_type": "code",
   "execution_count": null,
   "metadata": {},
   "outputs": [],
   "source": [
    "user.test_request([10, 2]).display()"
   ]
  },
  {
   "cell_type": "markdown",
   "metadata": {},
   "source": [
    "We can also define our own validate functions.\n",
    "\n",
    "In the example below, we ask the user to imagine they have a $50 gift card to spend at a clothing store. We validate that the amount they spend on shirts and pants is equal to the gift card amount.\n",
    "\n",
    "If the user's response was invalid, the validate function should return either:\n",
    "\n",
    "- `False`\n",
    "- `(False, \"Some feedback message.\")`\n",
    "\n",
    "If the user's response was valid, the validate function doesn't have to return anything.\n",
    "\n",
    "Note that we require the user to respond to both the shirts spending and pants spending input using `input_tag={\"required\": True}`. This is because, if the user doesn't respond to either of these questions (that is, their responses are `None`), our validate function will fail when it tries to evaluate `pants_spending.response + shirts_spending.response`.\n",
    "\n",
    "Run the cell below and see what happens when the user's total spending doesn't equal the gift card amount."
   ]
  },
  {
   "cell_type": "code",
   "execution_count": null,
   "metadata": {},
   "outputs": [],
   "source": [
    "GIFT_CARD_VALUE = 50\n",
    "\n",
    "def seed():\n",
    "    return [\n",
    "        Page(\n",
    "            Label(f\"Imagine you have a ${GIFT_CARD_VALUE} gift card for a clothing store.\"),\n",
    "            shirts_spending := Input(\n",
    "                \"How much would you spend on shirts?\",\n",
    "                input_tag={\"type\": \"number\", \"min\": 0, \"required\": True}\n",
    "            ),\n",
    "            Input(\n",
    "                \"How much would you spend on pants?\",\n",
    "                input_tag={\"type\": \"number\", \"min\": 0, \"required\": True},\n",
    "                validate=partial(validate_total_spending, shirts_spending)\n",
    "            )\n",
    "        ),\n",
    "        Page(\n",
    "            Label(\"Goodbye!\")\n",
    "        )\n",
    "    ]\n",
    "\n",
    "\n",
    "def validate_total_spending(pants_spending, shirts_spending):\n",
    "    if pants_spending.response + shirts_spending.response != GIFT_CARD_VALUE:\n",
    "        return False, f\"The total amount you spend on shirts and pants should be ${GIFT_CARD_VALUE}.\"\n",
    "\n",
    "\n",
    "user = User.make_test_user(seed)\n",
    "user.test_request([None, 20, 20]).display()"
   ]
  },
  {
   "cell_type": "markdown",
   "metadata": {},
   "source": [
    "Run the cell below to see what happens when the user's response is valid."
   ]
  },
  {
   "cell_type": "code",
   "execution_count": null,
   "metadata": {},
   "outputs": [],
   "source": [
    "user.test_request([None, 20, 30]).display()"
   ]
  },
  {
   "cell_type": "markdown",
   "metadata": {},
   "source": [
    "## Exercises\n",
    "\n",
    "0. Create a survey with 3 pages:\n",
    "\n",
    "    0. A page with two questions:\n",
    "    \n",
    "        0. An \"original ID\" `Input` asking the user to enter an ID (e.g., \"What's your MTurk ID?\").\n",
    "        1. A \"confirmation\" `Input` (e.g., \"Please enter your MTurk ID a second time.\")\n",
    "    1. A page with two questions:\n",
    "\n",
    "        0. A `Check` question asking if the user made a new year's resolution to lose weight.\n",
    "        1. An `Input` asking, if so, how many pounds they want to lose.\n",
    "    2. A goodbye page.\n",
    "1. Add validation requiring the user to respond to the original ID `Input` on page 0.\n",
    "2. Add validation requiring the user's original ID and confirmation to match.\n",
    "3. Add validation requiring the user to enter the amount of weight they want to lose (the `Input` on page 1) if they made a new year's resolution to lose weight. Hint: Use a custom validation function, not `input_tag={\"required\": True}`.\n",
    "4. Make a test user and have it do the following:\n",
    "\n",
    "    0. Try to go forward from page 0 when the original ID doesn't match the confirmation.\n",
    "    1. Successfully go forward from page 0 (the original ID should match the confirmation).\n",
    "    2. Try to go forward from page 1 when the user resolved to lose weight but didn't enter the amount of weight they want to lose.\n",
    "    3. Successfully go forward from page 1. You can either do this by:\n",
    "    \n",
    "        0. Entering the amount of weight the user wants to lose, or\n",
    "        1. Saying that the user didn't resolve to lose weight\n",
    "5. Transfer the seed function you wrote in steps 0-4 to `src/my_survey.py`, run the app, and repeat the exercise from step 5 in your browser. Additionally, see what happens when you try to go forward from the 0th page without entering your ID.\n",
    "6. Test your code with `make test`. Note that you'll have to set the test user's default response to the ID inputs on page 0 to make sure they match. Otherwise, your test users will get stuck."
   ]
  },
  {
   "cell_type": "code",
   "execution_count": null,
   "metadata": {},
   "outputs": [],
   "source": [
    "# WRITE YOUR CODE HERE"
   ]
  },
  {
   "cell_type": "markdown",
   "metadata": {},
   "source": [
    "## Answers"
   ]
  },
  {
   "cell_type": "code",
   "execution_count": null,
   "metadata": {},
   "outputs": [],
   "source": [
    "def seed():\n",
    "    return [\n",
    "        Page(\n",
    "            id_input := Input(\n",
    "                \"What is your MTurk ID?\",\n",
    "                input_tag={\"required\": True}\n",
    "            ),\n",
    "            Input(\n",
    "                \"Confirm your MTurk ID\",\n",
    "                validate=validate.compare_response(\n",
    "                    id_input, feedback=\"MTurk IDs do not match.\"\n",
    "                )\n",
    "            )\n",
    "        ),\n",
    "        Page(\n",
    "            resolved_to_lose_weight := Check(\n",
    "                \"Did you make a new year's resolution to lose weight?\",\n",
    "                [(1, \"Yes\"), (0, \"No\")]\n",
    "            ),\n",
    "            Input(\n",
    "                \"If so, how many pounds do you want to lose?\",\n",
    "                input_tag={\"type\": \"number\", \"min\": 0},\n",
    "                validate=partial(require_if, resolved_to_lose_weight)\n",
    "            )\n",
    "        ),\n",
    "        Page(\n",
    "            Label(\"Goodbye!\")\n",
    "        )\n",
    "    ]\n",
    "\n",
    "\n",
    "def require_if(amount_input, resolved_to_lose_weight):\n",
    "    if resolved_to_lose_weight.response and amount_input.response is None:\n",
    "        return False, \"Please enter how many pounds you want to lose.\"\n",
    "\n",
    "\n",
    "user = User.make_test_user(seed)\n",
    "user.test_request([\"some_id\", \"some_other_id\"]).display()"
   ]
  },
  {
   "cell_type": "code",
   "execution_count": null,
   "metadata": {},
   "outputs": [],
   "source": [
    "user.test_request([\"some_id\", \"some_id\"]).display()"
   ]
  },
  {
   "cell_type": "code",
   "execution_count": null,
   "metadata": {},
   "outputs": [],
   "source": [
    "user.test_request([1, None]).display()"
   ]
  },
  {
   "cell_type": "code",
   "execution_count": null,
   "metadata": {},
   "outputs": [],
   "source": [
    "user.test_request([1, 10]).display()"
   ]
  },
  {
   "cell_type": "code",
   "execution_count": null,
   "metadata": {},
   "outputs": [],
   "source": [
    "user = User.make_test_user(seed)\n",
    "user.test_request([\"some_id\", \"some_id\"])\n",
    "user.test_request([0, None]).display()"
   ]
  },
  {
   "cell_type": "markdown",
   "metadata": {},
   "source": [
    "See `src/validate.py` for what your survey file should look like.\n",
    "\n",
    "Now you know how to add validation! Check out `080_submit.ipynb` for the next part of the tutorial."
   ]
  },
  {
   "cell_type": "code",
   "execution_count": null,
   "metadata": {},
   "outputs": [],
   "source": []
  }
 ],
 "metadata": {
  "interpreter": {
   "hash": "d37b4f6678920e1a5e3f7c96bb0fd4c6f9d453d96ae60faade55505d9378739b"
  },
  "kernelspec": {
   "display_name": "Python 3.8.12 64-bit ('hemlock-tutorial': conda)",
   "language": "python",
   "name": "python3"
  },
  "language_info": {
   "codemirror_mode": {
    "name": "ipython",
    "version": 3
   },
   "file_extension": ".py",
   "mimetype": "text/x-python",
   "name": "python",
   "nbconvert_exporter": "python",
   "pygments_lexer": "ipython3",
   "version": "3.8.12"
  },
  "orig_nbformat": 4
 },
 "nbformat": 4,
 "nbformat_minor": 2
}
